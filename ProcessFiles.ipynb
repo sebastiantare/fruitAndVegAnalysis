{
 "cells": [
  {
   "cell_type": "code",
   "execution_count": 8,
   "id": "e789c115",
   "metadata": {},
   "outputs": [],
   "source": [
    "import pandas as pd\n",
    "import numpy as np\n",
    "import dateparser\n",
    "import re\n",
    "from datetime import datetime, timedelta\n",
    "import os\n",
    "import math"
   ]
  },
  {
   "cell_type": "code",
   "execution_count": 9,
   "id": "740a8d5b",
   "metadata": {},
   "outputs": [],
   "source": [
    "def findBetween(datestr, start, end):\n",
    "    # Simple find string function\n",
    "    pattern = re.escape(start) + r'(.*?)' + re.escape(end)\n",
    "    matches = re.findall(pattern, datestr)\n",
    "    return matches[0]\n",
    "def extractDates(datestr):\n",
    "    try:\n",
    "        # Second date is full\n",
    "        second_date = dateparser.parse(datestr.split('al ')[1])\n",
    "        \n",
    "        # First date day or day+month\n",
    "        first_day = findBetween(datestr, 'Semana del ', ' al')\n",
    "        first_date = None\n",
    "        \n",
    "        # Dates comes in two formats\n",
    "        if not first_day.isnumeric():\n",
    "            # Example: Semana del 27 de junio al 1 de julio 2022\n",
    "            first_day, first_month = first_day.split(' de ')\n",
    "            first_month = dateparser.parse(f\"{first_day} de {first_month} de {second_date.year}\").month\n",
    "            first_date = second_date.replace(day=int(first_day), month=first_month)\n",
    "            \n",
    "            if (second_date - first_date) < timedelta(days=0):\n",
    "                first_date = first_date.replace(year=first_date.year - 1)\n",
    "        else:\n",
    "            # Example: Semana del 09 al 13 de marzo de 2015\n",
    "            first_day = int(first_day)\n",
    "            first_date = second_date.replace(day=first_day)\n",
    "        return [first_date, second_date]\n",
    "    except Exception as e:\n",
    "        print('Extract Dates: ', datestr, e)\n",
    "def formatDateStr(datestr):\n",
    "    # Dates in filenames can come in two formats\n",
    "    try:\n",
    "        new_date = dateparser.parse(datestr, date_formats=['%Y%m%d'])\n",
    "        if new_date == None:\n",
    "            new_date = dateparser.parse(datestr, date_formats=['%d%m%Y'])\n",
    "            return new_date\n",
    "        else:\n",
    "            return new_date\n",
    "    except Exception as e:\n",
    "        print(e, datestr)\n",
    "        return None"
   ]
  },
  {
   "cell_type": "code",
   "execution_count": 10,
   "id": "2ed8b284",
   "metadata": {},
   "outputs": [],
   "source": [
    "# Read all valid files that has date\n",
    "path_data = './data/'\n",
    "excel_files = os.listdir(path_data)\n",
    "selected_excels = []\n",
    "target_date = datetime(2018,9,21)\n",
    "\n",
    "# Format date, and create a list\n",
    "for excel_file in excel_files:\n",
    "    pattern = r'(\\d+)\\.xlsx'\n",
    "    match = re.search(pattern, excel_file)\n",
    "    if match:\n",
    "        parsed_date = formatDateStr(match.group(1))\n",
    "        if parsed_date > target_date:\n",
    "            selected_excels.append({'date':parsed_date, 'file': excel_file})\n",
    "    else:\n",
    "        continue\n",
    "    continue\n",
    "    \n",
    "# Sort list by date\n",
    "sorted_data = sorted(selected_excels, key=lambda x: x['date'])"
   ]
  },
  {
   "cell_type": "code",
   "execution_count": 11,
   "id": "39b1a208",
   "metadata": {},
   "outputs": [],
   "source": [
    "def readAllFiles(files_paths):  \n",
    "    result_df = pd.DataFrame()\n",
    "    path_data = './data/'\n",
    "    \n",
    "    for data in sorted_data:\n",
    "        df_sheets = pd.read_excel(path_data + data['file'], sheet_name=None)\n",
    "        sheet_names = list(df_sheets.keys())[2:] #Remove 'Portada...' and 'Presentacion'\n",
    "        #print(data['file'], sheet_names)\n",
    "        \n",
    "        for product in sheet_names:\n",
    "            # Read excel file\n",
    "            df = pd.read_excel(path_data + data['file'], sheet_name=product)\n",
    "            # Extract dates\n",
    "            start_date, end_date = extractDates(str(df.iloc[1][0]))\n",
    "            # Delete empty space\n",
    "            df.drop(df[df[df.columns[1]].isnull() == True].index, axis=0, inplace=True)\n",
    "            # Get columns\n",
    "            df.columns = np.array(df.iloc[0])\n",
    "            # Rename column\n",
    "            df.rename(columns={'Unidad de\\ncomercialización ': 'Unidad'}, inplace=True)\n",
    "            # Resets index\n",
    "            df = df.reset_index(drop=True)\n",
    "            # Separate price from volume data\n",
    "            # Price and Volume are mirrored so they should always be a pair number\n",
    "            split_index = int(df[df['Mercado'] == 'Mercado'].index[int(len(df[df['Mercado'] == 'Mercado'].index)/2)])\n",
    "            \n",
    "            price_df = df.iloc[:split_index]\n",
    "            volume_df = df.iloc[split_index:]\n",
    "            \n",
    "            # Sometimes Friday values are 0 and day range of the week is from monday-tuesday\n",
    "            # I thought this could happen with Monday as well but it didn't\n",
    "            # Anyways I take start_date and calculate the rest starting from that\n",
    "            if (end_date - start_date) < timedelta(days=4):\n",
    "                if 'Viernes' not in price_df.columns:\n",
    "                    price_df.insert(loc=len(price_df.columns), column='Viernes', value=0.0)\n",
    "                    volume_df.insert(loc=len(volume_df.columns), column='Viernes', value=0.0)\n",
    "                end_date = end_date + timedelta(days=1)\n",
    "            \n",
    "            # Melt Week days columns into a single column \"Dia\" and it's values into another column \"Precio\" and \"Volumen\"\n",
    "            price_df = pd.melt(price_df, id_vars=['Variedad', 'Mercado', 'Unidad'], var_name='Dia', value_name='Precio')\n",
    "            volume_df = pd.melt(volume_df, id_vars=['Variedad', 'Mercado', 'Unidad'], var_name='Dia', value_name='Volumen')\n",
    "\n",
    "            # Function to calculate the date for each weekday based on the start date\n",
    "            def calculate_date(row):\n",
    "                weekday_to_offset = {\n",
    "                    'Lunes': 0,\n",
    "                    'Martes': 1,\n",
    "                    'Miércoles': 2,\n",
    "                    'Jueves': 3,\n",
    "                    'Viernes': 4\n",
    "                }\n",
    "                offset = weekday_to_offset[row['Dia']]\n",
    "                return start_date + pd.DateOffset(days=offset)\n",
    "\n",
    "            # Apply the function to create the 'Date' column\n",
    "            price_df['Fecha'] = price_df.apply(calculate_date, axis=1)\n",
    "            volume_df['Fecha'] = volume_df.apply(calculate_date, axis=1)\n",
    "\n",
    "            price_df['Unidad'] = volume_df['Unidad']\n",
    "\n",
    "            merged_df = pd.merge(price_df, volume_df, on=['Variedad', 'Mercado', 'Dia', 'Fecha', 'Unidad'])    \n",
    "            merged_df['Producto'] = product\n",
    "            \n",
    "            # Ready to concat\n",
    "            result_df = pd.concat([result_df, merged_df])\n",
    "            #print(f\" {product} OK,\", end='')\n",
    "        result_df = result_df.reset_index(drop=True)\n",
    "    return result_df"
   ]
  },
  {
   "cell_type": "code",
   "execution_count": 7,
   "id": "6ba1fcd3",
   "metadata": {
    "scrolled": true
   },
   "outputs": [
    {
     "name": "stdout",
     "output_type": "stream",
     "text": [
      "Boletin_Semanal_Precios_Mayoristas_20220722.xlsx Pera\n",
      "Boletin_Semanal_Precios_Mayoristas_20230113.xlsx Pera\n",
      "Boletin_Semanal_Precios_Mayoristas_20230120.xlsx Pera\n",
      "Boletin_Semanal_Precios_Mayoristas_20230127.xlsx Pera\n",
      "Boletin_Semanal_Precios_Mayoristas_20230310.xlsx Pera\n",
      "Boletin_Semanal_Precios_Mayoristas_20230317.xlsx Pera\n",
      "Boletin_Semanal_Precios_Mayoristas_20230331.xlsx Pera\n",
      "Boletin_Semanal_Precios_Mayoristas_20230421.xlsx Lechuga\n",
      "Boletin_Semanal_Precios_Mayoristas_20230623.xlsx Pera\n",
      "Boletin_Semanal_Precios_Mayoristas_20230630.xlsx Pera\n"
     ]
    }
   ],
   "source": [
    "df = readAllFiles(sorted_data)"
   ]
  },
  {
   "cell_type": "code",
   "execution_count": 25,
   "id": "523837a3",
   "metadata": {},
   "outputs": [],
   "source": [
    "df = df.reset_index(drop=True)"
   ]
  },
  {
   "cell_type": "code",
   "execution_count": 23,
   "id": "597740c8",
   "metadata": {},
   "outputs": [],
   "source": [
    "df['Total'] = df['Precio'] * df['Volumen']"
   ]
  },
  {
   "cell_type": "code",
   "execution_count": 35,
   "id": "740ebc33",
   "metadata": {},
   "outputs": [
    {
     "ename": "TypeError",
     "evalue": "'NoneType' object is not subscriptable",
     "output_type": "error",
     "traceback": [
      "\u001b[0;31m---------------------------------------------------------------------------\u001b[0m",
      "\u001b[0;31mTypeError\u001b[0m                                 Traceback (most recent call last)",
      "Cell \u001b[0;32mIn[35], line 2\u001b[0m\n\u001b[1;32m      1\u001b[0m \u001b[38;5;66;03m# A questions arises: Why is there a volume in the same datapoint where price is 0?\u001b[39;00m\n\u001b[0;32m----> 2\u001b[0m df[(\u001b[43mdf\u001b[49m\u001b[43m[\u001b[49m\u001b[38;5;124;43m'\u001b[39;49m\u001b[38;5;124;43mPrecio\u001b[39;49m\u001b[38;5;124;43m'\u001b[39;49m\u001b[43m]\u001b[49m \u001b[38;5;241m==\u001b[39m \u001b[38;5;241m0\u001b[39m) \u001b[38;5;241m&\u001b[39m (df[\u001b[38;5;124m'\u001b[39m\u001b[38;5;124mVolumen\u001b[39m\u001b[38;5;124m'\u001b[39m] \u001b[38;5;241m>\u001b[39m \u001b[38;5;241m0\u001b[39m)]\n",
      "\u001b[0;31mTypeError\u001b[0m: 'NoneType' object is not subscriptable"
     ]
    }
   ],
   "source": [
    "# A questions arises: Why is there a volume in the same datapoint where price is 0?\n",
    "df[(df['Precio'] == 0) & (df['Volumen'] > 0)]"
   ]
  }
 ],
 "metadata": {
  "kernelspec": {
   "display_name": "Python 3 (ipykernel)",
   "language": "python",
   "name": "python3"
  },
  "language_info": {
   "codemirror_mode": {
    "name": "ipython",
    "version": 3
   },
   "file_extension": ".py",
   "mimetype": "text/x-python",
   "name": "python",
   "nbconvert_exporter": "python",
   "pygments_lexer": "ipython3",
   "version": "3.8.16"
  }
 },
 "nbformat": 4,
 "nbformat_minor": 5
}
