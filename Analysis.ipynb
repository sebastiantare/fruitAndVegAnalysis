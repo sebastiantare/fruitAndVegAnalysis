{
 "cells": [
  {
   "attachments": {},
   "cell_type": "markdown",
   "metadata": {},
   "source": [
    "# General Analysis Ideas\n",
    "\n",
    "### Which fruits/vegetables have the highest/lowest sales volume and revenue?\n",
    "    Identify the top-selling and least-selling products in terms of volume and revenue to understand the most and least popular items.\n",
    "\n",
    "### What are the sales trends for specific fruits/vegetables over time?\n",
    "    Analyze weekly sales data to identify seasonal trends, demand patterns, and potential growth opportunities.\n",
    "\n",
    "### What is the average price and volume sold per unit for each fruit/vegetable?\n",
    "    Calculate the average price and volume to understand the typical market conditions for different products.\n",
    "\n",
    "### Which markets show the highest/lowest sales for specific fruits/vegetables?\n",
    "    Determine the geographical regions with the highest and lowest sales to optimize distribution and marketing efforts.\n",
    "\n",
    "### What is the overall revenue and volume for all fruits/vegetables combined?\n",
    "    Provide an overview of total revenue and volume to showcase the overall performance of the business.\n",
    "\n",
    "### Are there any price or volume fluctuations over time?\n",
    "    Analyze price and volume variations to identify factors affecting sales and potential pricing strategies.\n",
    "\n",
    "### Which fruits/vegetables have the highest profit margins?\n",
    "    Calculate profit margins for each product to identify opportunities for maximizing profitability.\n",
    "\n",
    "### What are the best-selling fruits/vegetables in each market?\n",
    "    Determine the top products in each market to guide inventory management and marketing efforts.\n",
    "\n",
    "### Can we identify any correlations between price and volume for specific products?\n",
    "    Conduct a correlation analysis to explore the relationship between price and volume for individual items.\n",
    "\n",
    "### What is the overall market share of each fruit/vegetable?\n",
    "    Calculate the market share of each product to understand its position compared to competitors.\n",
    "\n",
    "### How do pricing strategies impact sales volume and revenue?\n",
    "    Analyze the effect of pricing changes on sales performance to optimize pricing strategies.\n",
    "\n",
    "### Which fruits/vegetables have the highest customer satisfaction or repeat purchase rates?\n",
    "    Use customer feedback data to identify products with high satisfaction levels and loyal customers.\n",
    "\n",
    "### Can we forecast future sales for specific products based on historical data?\n",
    "    Utilize time series analysis and forecasting techniques to predict future sales for individual items.\n",
    "\n",
    "### What are the most profitable markets for each fruit/vegetable?\n",
    "    Analyze the profit margins across different markets to identify lucrative opportunities.\n",
    "\n",
    "### Are there any product combinations that lead to increased sales?\n",
    "    Analyze cross-selling patterns to identify potential product bundling opportunities."
   ]
  },
  {
   "cell_type": "code",
   "execution_count": 9,
   "metadata": {},
   "outputs": [],
   "source": [
    "import numpy as np\n",
    "import pandas as pd\n",
    "import calendar\n",
    "import matplotlib.pyplot as plt\n",
    "import seaborn as sns\n",
    "import plotly.express as px\n",
    "from plotly.subplots import make_subplots\n",
    "import plotly.graph_objs as go"
   ]
  },
  {
   "cell_type": "code",
   "execution_count": 4,
   "metadata": {},
   "outputs": [
    {
     "data": {
      "text/html": [
       "<div>\n",
       "<style scoped>\n",
       "    .dataframe tbody tr th:only-of-type {\n",
       "        vertical-align: middle;\n",
       "    }\n",
       "\n",
       "    .dataframe tbody tr th {\n",
       "        vertical-align: top;\n",
       "    }\n",
       "\n",
       "    .dataframe thead th {\n",
       "        text-align: right;\n",
       "    }\n",
       "</style>\n",
       "<table border=\"1\" class=\"dataframe\">\n",
       "  <thead>\n",
       "    <tr style=\"text-align: right;\">\n",
       "      <th></th>\n",
       "      <th>Unnamed: 0</th>\n",
       "      <th>Variedad</th>\n",
       "      <th>Mercado</th>\n",
       "      <th>Unidad</th>\n",
       "      <th>Dia</th>\n",
       "      <th>Precio</th>\n",
       "      <th>Fecha</th>\n",
       "      <th>Volumen</th>\n",
       "      <th>Producto</th>\n",
       "      <th>Total</th>\n",
       "      <th>Latitude</th>\n",
       "      <th>Longitude</th>\n",
       "      <th>Numero Unidad</th>\n",
       "      <th>Nombre Unidad</th>\n",
       "    </tr>\n",
       "  </thead>\n",
       "  <tbody>\n",
       "    <tr>\n",
       "      <th>0</th>\n",
       "      <td>0</td>\n",
       "      <td>Morada</td>\n",
       "      <td>Vega Modelo de Temuco</td>\n",
       "      <td>MALLA 18 KILOS</td>\n",
       "      <td>Lunes</td>\n",
       "      <td>0.0000</td>\n",
       "      <td>2018-09-24</td>\n",
       "      <td>0.0</td>\n",
       "      <td>Cebolla</td>\n",
       "      <td>0.000000e+00</td>\n",
       "      <td>-38.693615</td>\n",
       "      <td>-72.524888</td>\n",
       "      <td>18</td>\n",
       "      <td>KILOS</td>\n",
       "    </tr>\n",
       "    <tr>\n",
       "      <th>1</th>\n",
       "      <td>1</td>\n",
       "      <td>Sin especificar</td>\n",
       "      <td>Femacal de La Calera</td>\n",
       "      <td>MALLA 18 KILOS</td>\n",
       "      <td>Lunes</td>\n",
       "      <td>6777.7759</td>\n",
       "      <td>2018-09-24</td>\n",
       "      <td>180.0</td>\n",
       "      <td>Cebolla</td>\n",
       "      <td>1.220000e+06</td>\n",
       "      <td>-32.785623</td>\n",
       "      <td>-71.188495</td>\n",
       "      <td>18</td>\n",
       "      <td>KILOS</td>\n",
       "    </tr>\n",
       "    <tr>\n",
       "      <th>2</th>\n",
       "      <td>2</td>\n",
       "      <td>Sin especificar</td>\n",
       "      <td>Vega Central Mapocho de Santiago</td>\n",
       "      <td>MALLA 18 KILOS</td>\n",
       "      <td>Lunes</td>\n",
       "      <td>0.0000</td>\n",
       "      <td>2018-09-24</td>\n",
       "      <td>0.0</td>\n",
       "      <td>Cebolla</td>\n",
       "      <td>0.000000e+00</td>\n",
       "      <td>-33.427612</td>\n",
       "      <td>-70.649499</td>\n",
       "      <td>18</td>\n",
       "      <td>KILOS</td>\n",
       "    </tr>\n",
       "    <tr>\n",
       "      <th>3</th>\n",
       "      <td>3</td>\n",
       "      <td>Sin especificar</td>\n",
       "      <td>Vega Monumental Concepción</td>\n",
       "      <td>MALLA 18 KILOS</td>\n",
       "      <td>Lunes</td>\n",
       "      <td>0.0000</td>\n",
       "      <td>2018-09-24</td>\n",
       "      <td>0.0</td>\n",
       "      <td>Cebolla</td>\n",
       "      <td>0.000000e+00</td>\n",
       "      <td>-36.807464</td>\n",
       "      <td>-73.071571</td>\n",
       "      <td>18</td>\n",
       "      <td>KILOS</td>\n",
       "    </tr>\n",
       "    <tr>\n",
       "      <th>4</th>\n",
       "      <td>4</td>\n",
       "      <td>Sin especificar</td>\n",
       "      <td>Central Lo Valledor de Santiago</td>\n",
       "      <td>MALLA 16 KILOS</td>\n",
       "      <td>Lunes</td>\n",
       "      <td>8830.4307</td>\n",
       "      <td>2018-09-24</td>\n",
       "      <td>2300.0</td>\n",
       "      <td>Cebolla</td>\n",
       "      <td>2.030999e+07</td>\n",
       "      <td>-33.481183</td>\n",
       "      <td>-70.682510</td>\n",
       "      <td>16</td>\n",
       "      <td>KILOS</td>\n",
       "    </tr>\n",
       "  </tbody>\n",
       "</table>\n",
       "</div>"
      ],
      "text/plain": [
       "   Unnamed: 0         Variedad                           Mercado  \\\n",
       "0           0           Morada             Vega Modelo de Temuco   \n",
       "1           1  Sin especificar              Femacal de La Calera   \n",
       "2           2  Sin especificar  Vega Central Mapocho de Santiago   \n",
       "3           3  Sin especificar        Vega Monumental Concepción   \n",
       "4           4  Sin especificar   Central Lo Valledor de Santiago   \n",
       "\n",
       "           Unidad    Dia     Precio       Fecha  Volumen Producto  \\\n",
       "0  MALLA 18 KILOS  Lunes     0.0000  2018-09-24      0.0  Cebolla   \n",
       "1  MALLA 18 KILOS  Lunes  6777.7759  2018-09-24    180.0  Cebolla   \n",
       "2  MALLA 18 KILOS  Lunes     0.0000  2018-09-24      0.0  Cebolla   \n",
       "3  MALLA 18 KILOS  Lunes     0.0000  2018-09-24      0.0  Cebolla   \n",
       "4  MALLA 16 KILOS  Lunes  8830.4307  2018-09-24   2300.0  Cebolla   \n",
       "\n",
       "          Total   Latitude  Longitude  Numero Unidad Nombre Unidad  \n",
       "0  0.000000e+00 -38.693615 -72.524888             18         KILOS  \n",
       "1  1.220000e+06 -32.785623 -71.188495             18         KILOS  \n",
       "2  0.000000e+00 -33.427612 -70.649499             18         KILOS  \n",
       "3  0.000000e+00 -36.807464 -73.071571             18         KILOS  \n",
       "4  2.030999e+07 -33.481183 -70.682510             16         KILOS  "
      ]
     },
     "execution_count": 4,
     "metadata": {},
     "output_type": "execute_result"
    }
   ],
   "source": [
    "df = pd.read_csv('./exported_data_2018-09-24_to_2023-07-14_V1.2.csv')\n",
    "df.head()"
   ]
  },
  {
   "cell_type": "code",
   "execution_count": 7,
   "metadata": {},
   "outputs": [
    {
     "data": {
      "text/plain": [
       "(68199, 112639)"
      ]
     },
     "execution_count": 7,
     "metadata": {},
     "output_type": "execute_result"
    }
   ],
   "source": [
    "df[df['Precio'] <= 0].shape[0], df[df['Precio'] > 0].shape[0]"
   ]
  },
  {
   "cell_type": "code",
   "execution_count": 11,
   "metadata": {},
   "outputs": [
    {
     "data": {
      "text/plain": [
       "(68289, 112772)"
      ]
     },
     "execution_count": 11,
     "metadata": {},
     "output_type": "execute_result"
    }
   ],
   "source": [
    "df[df['Volumen'] <= 0].shape[0], df[df['Volumen'] > 0].shape[0]"
   ]
  },
  {
   "cell_type": "code",
   "execution_count": 15,
   "metadata": {},
   "outputs": [
    {
     "data": {
      "text/plain": [
       "(0, 112772)"
      ]
     },
     "execution_count": 15,
     "metadata": {},
     "output_type": "execute_result"
    }
   ],
   "source": [
    "df_drop = df.drop(index=df[df['Volumen'] <= 0].index)\n",
    "df_drop[df_drop['Volumen'] <= 0].shape[0], df_drop[df_drop['Volumen'] > 0].shape[0]"
   ]
  },
  {
   "cell_type": "code",
   "execution_count": 16,
   "metadata": {},
   "outputs": [
    {
     "data": {
      "text/plain": [
       "(0, 112603)"
      ]
     },
     "execution_count": 16,
     "metadata": {},
     "output_type": "execute_result"
    }
   ],
   "source": [
    "df_drop = df_drop.drop(index=df_drop[df_drop['Precio'] <= 0].index)\n",
    "df_drop[df_drop['Precio'] <= 0].shape[0], df_drop[df_drop['Precio'] > 0].shape[0]"
   ]
  },
  {
   "cell_type": "code",
   "execution_count": 49,
   "metadata": {},
   "outputs": [
    {
     "data": {
      "text/plain": [
       "array(['MALLA 18 KILOS', 'MALLA 16 KILOS', 'CAJA 10 UNIDADES',\n",
       "       'CAJA 15 UNIDADES', 'BIN (400 KILOS)', 'CAJA 16 KILOS EMPEDRADA',\n",
       "       'CAJA 15 KILOS GRANEL', 'KILO (EN CAJA DE 15 KILOS)',\n",
       "       'KILO (EN CAJA DE 17 KILOS)', 'SACO 25 KILOS', 'MALLA 25 KILOS',\n",
       "       'BIN (450 KILOS)', 'CAJA 18 KILOS EMPEDRADA', 'BANDEJA 18 KILOS',\n",
       "       'CAJA 12 KILOS', 'SACO 20 KILOS', '1 UNIDADES', 'MALLA 15 KILOS',\n",
       "       'PAQUETE 20 UNIDADES', 'PAQUETE 20 UNIDADES (VOLUMEN EN UNIDADES)',\n",
       "       'BANDEJA 10 KILOS', '$/PAQUETE 20 UNIDADES (VOLUMEN EN UNIDADES)',\n",
       "       'CAJA 16 KILOS', 'CAJA 20 KILOS', 'CAJA 15 KILOS',\n",
       "       'CAJA 15 KILOS EMPEDRADA', 'MALLA 17 KILOS',\n",
       "       'KILO (EN CAJA DE 18 KILOS)', 'BANDEJA 8 KILOS', 'CAJA 14 KILOS',\n",
       "       'CAJA 18 KILOS', 'CAJA 10 KILOS', 'BANDEJA 9 KILOS',\n",
       "       'BANDEJA 12 KILOS', 'MALLA 20 KILOS',\n",
       "       'PAQUETE 10 UNIDADES (VOLUMEN EN UNIDADES)', 'MALLA 13 KILOS',\n",
       "       'BANDEJA 15 KILOS GRANEL', 'BANDEJA 18 KILOS GRANEL',\n",
       "       'CAJA 13 KILOS', 'KILO (EN CAJA DE 8 KILOS )',\n",
       "       'CAJA 18 KILOS GRANEL'], dtype=object)"
      ]
     },
     "execution_count": 49,
     "metadata": {},
     "output_type": "execute_result"
    }
   ],
   "source": [
    "a = df_drop.copy()\n",
    "a['Precio Unidad'] = a['Precio'] / a['Numero Unidad']\n",
    "a['Fecha'] = pd.to_datetime(a['Fecha'])\n",
    "a[\"Ano\"] = a.Fecha.dt.year\n",
    "a[\"Mes\"] = a.Fecha.dt.month\n",
    "\n",
    "a = a[a['Producto'] == 'Palta']\n",
    "a = a[a['Variedad'] == 'Hass']\n",
    "a = a[a['Nombre Unidad'] == 'KILOS']\n",
    "\n",
    "df_drop['Unidad'].unique()"
   ]
  }
 ],
 "metadata": {
  "kernelspec": {
   "display_name": "test-env",
   "language": "python",
   "name": "python3"
  },
  "language_info": {
   "codemirror_mode": {
    "name": "ipython",
    "version": 3
   },
   "file_extension": ".py",
   "mimetype": "text/x-python",
   "name": "python",
   "nbconvert_exporter": "python",
   "pygments_lexer": "ipython3",
   "version": "3.8.16"
  },
  "orig_nbformat": 4
 },
 "nbformat": 4,
 "nbformat_minor": 2
}
